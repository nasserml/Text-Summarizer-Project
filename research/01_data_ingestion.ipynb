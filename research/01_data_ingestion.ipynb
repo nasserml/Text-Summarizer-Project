{
 "cells": [
  {
   "attachments": {},
   "cell_type": "markdown",
   "metadata": {},
   "source": [
    "The provided code is a Jupyter Notebook code snippet. Here is a summary of each part:\n",
    "\n",
    "1. `import os`: Importing the `os` module for operating system related functionalities.\n",
    "\n",
    "2. `%pwd`: A Jupyter magic command that retrieves the current working directory and displays it as output.\n",
    "\n",
    "3. `os.chdir(\"../\")`: Changing the current working directory to the parent directory.\n",
    "\n",
    "4. `%pwd`: Retrieving the current working directory again to verify the change.\n",
    "\n",
    "5. `from dataclasses import dataclass`: Importing the `dataclass` decorator from the `dataclasses` module.\n",
    "\n",
    "6. `from pathlib import Path`: Importing the `Path` class from the `pathlib` module.\n",
    "\n",
    "7. `@dataclass(frozen=True)`: Decorating the `DataIngestionConfig` class with `dataclass` and setting `frozen=True` to make it immutable.\n",
    "\n",
    "8. `class DataIngestionConfig`: Defining the `DataIngestionConfig` class with attributes `root_dir`, `source_URL`, `local_data_file`, and `unzip_dir`.\n",
    "\n",
    "9. `from textSummarizer.constants import *`: Importing all constants from the `textSummarizer.constants` module.\n",
    "\n",
    "10. `from textSummarizer.utils.common import read_yaml, create_directories`: Importing the `read_yaml` and `create_directories` functions from the `textSummarizer.utils.common` module.\n",
    "\n",
    "11. `class ConfigurationManager`: Defining the `ConfigurationManager` class responsible for managing the project's configuration.\n",
    "\n",
    "12. The `__init__` method within `ConfigurationManager` initializes the class instance with `config_filepath` and `params_filepath` parameters and reads YAML files using the `read_yaml` function. It also creates necessary directories using the `create_directories` function.\n",
    "\n",
    "13. `get_data_ingestion_config` method within `ConfigurationManager` retrieves the data ingestion configuration from the YAML file. It creates necessary directories and returns an instance of `DataIngestionConfig` with the configuration values.\n",
    "\n",
    "14. `import os`: Importing the `os` module.\n",
    "\n",
    "15. `import urllib.request as request`: Importing the `request` module from `urllib.request` for downloading files.\n",
    "\n",
    "16. `import zipfile`: Importing the `zipfile` module for extracting zip files.\n",
    "\n",
    "17. `from textSummarizer.logging import logger`: Importing the `logger` object from the `textSummarizer.logging` module.\n",
    "\n",
    "18. `from textSummarizer.utils.common import get_size`: Importing the `get_size` function from the `textSummarizer.utils.common` module.\n",
    "\n",
    "19. `class DataIngestion`: Defining the `DataIngestion` class responsible for downloading and extracting data files.\n",
    "\n",
    "20. The `__init__` method within `DataIngestion` initializes the class instance with a `DataIngestionConfig` object.\n",
    "\n",
    "21. The `download_file` method within `DataIngestion` downloads the file from the source URL using the `request.urlretrieve` function. It checks if the file already exists and logs the download information or the existing file's size.\n",
    "\n",
    "22. The `extract_zip_file` method within `DataIngestion` extracts the zip file into the specified directory using `zipfile.ZipFile` and `zip_ref.extractall` functions.\n",
    "\n",
    "23. The `try` block starts, where the configuration manager is created, the data ingestion configuration is retrieved, an instance of `DataIngestion` is created, the file is downloaded using the `download_file` method, and the zip file is extracted using the `extract_zip_file` method.\n",
    "\n",
    "24. If any exception occurs during the execution, it is caught in the `\n",
    "\n",
    "except` block, and the exception is raised again.\n",
    "\n",
    "Overall, the code snippet sets up the configuration, downloads a file from a source URL, and extracts a zip file into a specified directory."
   ]
  },
  {
   "cell_type": "code",
   "execution_count": 1,
   "metadata": {},
   "outputs": [],
   "source": [
    "import os"
   ]
  },
  {
   "cell_type": "code",
   "execution_count": 2,
   "metadata": {},
   "outputs": [
    {
     "data": {
      "text/plain": [
       "'f:\\\\artificial intelegnce\\\\study\\\\ML End To End Projects Krish Naik\\\\github\\\\Text-Summarizer-Project\\\\research'"
      ]
     },
     "execution_count": 2,
     "metadata": {},
     "output_type": "execute_result"
    }
   ],
   "source": [
    "%pwd"
   ]
  },
  {
   "cell_type": "code",
   "execution_count": 3,
   "metadata": {},
   "outputs": [],
   "source": [
    "os.chdir(\"../\")"
   ]
  },
  {
   "cell_type": "code",
   "execution_count": 4,
   "metadata": {},
   "outputs": [
    {
     "data": {
      "text/plain": [
       "'f:\\\\artificial intelegnce\\\\study\\\\ML End To End Projects Krish Naik\\\\github\\\\Text-Summarizer-Project'"
      ]
     },
     "execution_count": 4,
     "metadata": {},
     "output_type": "execute_result"
    }
   ],
   "source": [
    "%pwd"
   ]
  },
  {
   "cell_type": "code",
   "execution_count": 5,
   "metadata": {},
   "outputs": [],
   "source": [
    "from dataclasses import dataclass\n",
    "from pathlib import Path\n",
    "\n",
    "@dataclass(frozen=True)\n",
    "class DataIngestionConfig:\n",
    "    root_dir: Path\n",
    "    source_URL: str\n",
    "    local_data_file: Path\n",
    "    unzip_dir: Path"
   ]
  },
  {
   "cell_type": "code",
   "execution_count": 6,
   "metadata": {},
   "outputs": [],
   "source": [
    "from textSummarizer.constants import *\n",
    "from textSummarizer.utils.common import read_yaml, create_directories"
   ]
  },
  {
   "cell_type": "code",
   "execution_count": 7,
   "metadata": {},
   "outputs": [],
   "source": [
    "class ConfigurationManager:\n",
    "    def __init__(\n",
    "        self,\n",
    "        config_filepath = CONFIG_FILE_PATH,\n",
    "        params_filepath = PARAMS_FILE_PATH):\n",
    "\n",
    "        self.config = read_yaml(config_filepath)\n",
    "        self.params = read_yaml(params_filepath)\n",
    "\n",
    "        create_directories([self.config.artifacts_root])\n",
    "\n",
    "    \n",
    "\n",
    "    def get_data_ingestion_config(self) -> DataIngestionConfig:\n",
    "        config = self.config.data_ingestion\n",
    "\n",
    "        create_directories([config.root_dir])\n",
    "\n",
    "        data_ingestion_config = DataIngestionConfig(\n",
    "            root_dir=config.root_dir,\n",
    "            source_URL=config.source_URL,\n",
    "            local_data_file=config.local_data_file,\n",
    "            unzip_dir=config.unzip_dir \n",
    "        )\n",
    "\n",
    "        return data_ingestion_config"
   ]
  },
  {
   "cell_type": "code",
   "execution_count": 9,
   "metadata": {},
   "outputs": [],
   "source": [
    "import os\n",
    "import urllib.request as request\n",
    "import zipfile\n",
    "from textSummarizer.logging import logger\n",
    "from textSummarizer.utils.common import get_size"
   ]
  },
  {
   "cell_type": "code",
   "execution_count": 10,
   "metadata": {},
   "outputs": [],
   "source": [
    "class DataIngestion:\n",
    "    def __init__(self, config: DataIngestionConfig):\n",
    "        self.config = config\n",
    "\n",
    "\n",
    "    \n",
    "    def download_file(self):\n",
    "        if not os.path.exists(self.config.local_data_file):\n",
    "            filename, headers = request.urlretrieve(\n",
    "                url = self.config.source_URL,\n",
    "                filename = self.config.local_data_file\n",
    "            )\n",
    "            logger.info(f\"{filename} download! with following info: \\n{headers}\")\n",
    "        else:\n",
    "            logger.info(f\"File already exists of size: {get_size(Path(self.config.local_data_file))}\")  \n",
    "\n",
    "        \n",
    "    \n",
    "    def extract_zip_file(self):\n",
    "        \"\"\"\n",
    "        zip_file_path: str\n",
    "        Extracts the zip file into the data directory\n",
    "        Function returns None\n",
    "        \"\"\"\n",
    "        unzip_path = self.config.unzip_dir\n",
    "        os.makedirs(unzip_path, exist_ok=True)\n",
    "        with zipfile.ZipFile(self.config.local_data_file, 'r') as zip_ref:\n",
    "            zip_ref.extractall(unzip_path)"
   ]
  },
  {
   "cell_type": "code",
   "execution_count": 11,
   "metadata": {},
   "outputs": [
    {
     "name": "stdout",
     "output_type": "stream",
     "text": [
      "[2023-06-19 18:17:59,559: INFO: common: yaml file: config\\config.yaml loaded successfully]\n",
      "[2023-06-19 18:17:59,568: INFO: common: yaml file: params.yaml loaded successfully]\n",
      "[2023-06-19 18:17:59,571: INFO: common: created directory at: artifacts]\n",
      "[2023-06-19 18:17:59,571: INFO: common: created directory at: artifacts/data_ingestion]\n",
      "[2023-06-19 18:18:06,091: INFO: 1434958058: artifacts/data_ingestion/data.zip download! with following info: \n",
      "Connection: close\n",
      "Content-Length: 7903594\n",
      "Cache-Control: max-age=300\n",
      "Content-Security-Policy: default-src 'none'; style-src 'unsafe-inline'; sandbox\n",
      "Content-Type: application/zip\n",
      "ETag: \"dbc016a060da18070593b83afff580c9b300f0b6ea4147a7988433e04df246ca\"\n",
      "Strict-Transport-Security: max-age=31536000\n",
      "X-Content-Type-Options: nosniff\n",
      "X-Frame-Options: deny\n",
      "X-XSS-Protection: 1; mode=block\n",
      "X-GitHub-Request-Id: F570:0F4A:122377:14E418:649071A9\n",
      "Accept-Ranges: bytes\n",
      "Date: Mon, 19 Jun 2023 15:18:02 GMT\n",
      "Via: 1.1 varnish\n",
      "X-Served-By: cache-mrs10553-MRS\n",
      "X-Cache: MISS\n",
      "X-Cache-Hits: 0\n",
      "X-Timer: S1687187881.871436,VS0,VE1263\n",
      "Vary: Authorization,Accept-Encoding,Origin\n",
      "Access-Control-Allow-Origin: *\n",
      "Cross-Origin-Resource-Policy: cross-origin\n",
      "X-Fastly-Request-ID: bc195051b88994a6b03707c1ee751f718c24f82e\n",
      "Expires: Mon, 19 Jun 2023 15:23:02 GMT\n",
      "Source-Age: 1\n",
      "\n",
      "]\n"
     ]
    }
   ],
   "source": [
    "try:\n",
    "    config = ConfigurationManager()\n",
    "    data_ingestion_config = config.get_data_ingestion_config()\n",
    "    data_ingestion = DataIngestion(config=data_ingestion_config)\n",
    "    data_ingestion.download_file()\n",
    "    data_ingestion.extract_zip_file()\n",
    "except Exception as e:\n",
    "    raise e"
   ]
  },
  {
   "cell_type": "code",
   "execution_count": null,
   "metadata": {},
   "outputs": [],
   "source": []
  }
 ],
 "metadata": {
  "kernelspec": {
   "display_name": "textS",
   "language": "python",
   "name": "python3"
  },
  "language_info": {
   "codemirror_mode": {
    "name": "ipython",
    "version": 3
   },
   "file_extension": ".py",
   "mimetype": "text/x-python",
   "name": "python",
   "nbconvert_exporter": "python",
   "pygments_lexer": "ipython3",
   "version": "3.8.16"
  },
  "orig_nbformat": 4,
  "vscode": {
   "interpreter": {
    "hash": "22fe6abd7fa6c55aa584987fd47a2d98eb23e8b764dd6e6419fc0b943942d875"
   }
  }
 },
 "nbformat": 4,
 "nbformat_minor": 2
}
