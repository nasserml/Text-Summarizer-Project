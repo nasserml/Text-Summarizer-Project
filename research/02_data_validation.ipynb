{
 "cells": [
  {
   "attachments": {},
   "cell_type": "markdown",
   "metadata": {},
   "source": [
    "The code starts by importing the os module and checking the current working directory using the %pwd magic command.\n",
    "\n",
    "The current working directory is changed to the parent directory using os.chdir(\"../\"), and the updated working directory is displayed using %pwd.\n",
    "\n",
    "The code imports necessary modules and classes, including dataclass from dataclasses, Path from pathlib, and DataValidationConfig from the current project.\n",
    "\n",
    "The ConfigurationManager class is defined. It initializes with file paths and configurations, reads the YAML files, and creates necessary directories.\n",
    "\n",
    "The get_data_validation_config method within ConfigurationManager retrieves the data validation configuration from the YAML file and returns an instance of DataValidationConfig.\n",
    "\n",
    "The DataValiadtion class is defined. It takes a DataValidationConfig object as input.\n",
    "\n",
    "The validate_all_files_exist method within DataValiadtion performs the validation of required files' existence. It checks if all the files in the specified directory exist and updates the validation status accordingly in the status file.\n",
    "\n",
    "The code creates an instance of ConfigurationManager, retrieves the data validation configuration, creates an instance of DataValiadtion, and performs the file validation.\n",
    "\n",
    "Any exceptions that occur during the execution are raised and propagated.\n",
    "\n",
    "Overall, the code sets up the data validation configuration, performs the validation of required files' existence, and updates the validation status."
   ]
  },
  {
   "cell_type": "code",
   "execution_count": 1,
   "metadata": {},
   "outputs": [],
   "source": [
    "import os"
   ]
  },
  {
   "cell_type": "code",
   "execution_count": 2,
   "metadata": {},
   "outputs": [
    {
     "data": {
      "text/plain": [
       "'f:\\\\artificial intelegnce\\\\study\\\\ML End To End Projects Krish Naik\\\\github\\\\Text-Summarizer-Project\\\\research'"
      ]
     },
     "execution_count": 2,
     "metadata": {},
     "output_type": "execute_result"
    }
   ],
   "source": [
    "%pwd"
   ]
  },
  {
   "cell_type": "code",
   "execution_count": 3,
   "metadata": {},
   "outputs": [],
   "source": [
    "os.chdir(\"../\")"
   ]
  },
  {
   "cell_type": "code",
   "execution_count": 4,
   "metadata": {},
   "outputs": [
    {
     "data": {
      "text/plain": [
       "'f:\\\\artificial intelegnce\\\\study\\\\ML End To End Projects Krish Naik\\\\github\\\\Text-Summarizer-Project'"
      ]
     },
     "execution_count": 4,
     "metadata": {},
     "output_type": "execute_result"
    }
   ],
   "source": [
    "%pwd"
   ]
  },
  {
   "cell_type": "code",
   "execution_count": 5,
   "metadata": {},
   "outputs": [],
   "source": [
    "from dataclasses import dataclass\n",
    "from pathlib import Path\n",
    "\n",
    "\n",
    "@dataclass(frozen=True)\n",
    "class DataValidationConfig:\n",
    "    root_dir: Path\n",
    "    STATUS_FILE: str\n",
    "    ALL_REQUIRED_FILES: list"
   ]
  },
  {
   "cell_type": "code",
   "execution_count": 6,
   "metadata": {},
   "outputs": [],
   "source": [
    "from textSummarizer.constants import *\n",
    "from textSummarizer.utils.common import read_yaml, create_directories"
   ]
  },
  {
   "cell_type": "code",
   "execution_count": 7,
   "metadata": {},
   "outputs": [],
   "source": [
    "class ConfigurationManager:\n",
    "    def __init__(\n",
    "        self,\n",
    "        config_filepath = CONFIG_FILE_PATH,\n",
    "        params_filepath = PARAMS_FILE_PATH):\n",
    "\n",
    "        self.config = read_yaml(config_filepath)\n",
    "        self.params = read_yaml(params_filepath)\n",
    "\n",
    "        create_directories([self.config.artifacts_root])\n",
    "\n",
    "\n",
    "    \n",
    "    def get_data_validation_config(self) -> DataValidationConfig:\n",
    "        config = self.config.data_validation\n",
    "\n",
    "        create_directories([config.root_dir])\n",
    "\n",
    "        data_validation_config = DataValidationConfig(\n",
    "            root_dir=config.root_dir,\n",
    "            STATUS_FILE=config.STATUS_FILE,\n",
    "            ALL_REQUIRED_FILES=config.ALL_REQUIRED_FILES,\n",
    "        )\n",
    "\n",
    "        return data_validation_config"
   ]
  },
  {
   "cell_type": "code",
   "execution_count": 8,
   "metadata": {},
   "outputs": [],
   "source": [
    "import os\n",
    "from textSummarizer.logging import logger"
   ]
  },
  {
   "cell_type": "code",
   "execution_count": 9,
   "metadata": {},
   "outputs": [],
   "source": [
    "class DataValiadtion:\n",
    "    def __init__(self, config: DataValidationConfig):\n",
    "        self.config = config\n",
    "\n",
    "\n",
    "    \n",
    "    def validate_all_files_exist(self)-> bool:\n",
    "        try:\n",
    "            validation_status = None\n",
    "\n",
    "            all_files = os.listdir(os.path.join(\"artifacts\",\"data_ingestion\",\"samsum_dataset\"))\n",
    "\n",
    "            for file in all_files:\n",
    "                if file not in self.config.ALL_REQUIRED_FILES:\n",
    "                    validation_status = False\n",
    "                    with open(self.config.STATUS_FILE, 'w') as f:\n",
    "                        f.write(f\"Validation status: {validation_status}\")\n",
    "                else:\n",
    "                    validation_status = True\n",
    "                    with open(self.config.STATUS_FILE, 'w') as f:\n",
    "                        f.write(f\"Validation status: {validation_status}\")\n",
    "\n",
    "            return validation_status\n",
    "        \n",
    "        except Exception as e:\n",
    "            raise e"
   ]
  },
  {
   "cell_type": "code",
   "execution_count": 10,
   "metadata": {},
   "outputs": [
    {
     "name": "stdout",
     "output_type": "stream",
     "text": [
      "[2023-06-19 19:26:10,179: INFO: common: yaml file: config\\config.yaml loaded successfully]\n",
      "[2023-06-19 19:26:10,185: INFO: common: yaml file: params.yaml loaded successfully]\n",
      "[2023-06-19 19:26:10,186: INFO: common: created directory at: artifacts]\n",
      "[2023-06-19 19:26:10,188: INFO: common: created directory at: artifacts/data_validation]\n"
     ]
    }
   ],
   "source": [
    "try:\n",
    "    config = ConfigurationManager()\n",
    "    data_validation_config = config.get_data_validation_config()\n",
    "    data_validation = DataValiadtion(config=data_validation_config)\n",
    "    data_validation.validate_all_files_exist()\n",
    "except Exception as e:\n",
    "    raise e"
   ]
  },
  {
   "attachments": {},
   "cell_type": "markdown",
   "metadata": {},
   "source": [
    "import os: Importing the os module for operating system related functionalities.\n",
    "\n",
    "%pwd: A Jupyter magic command that retrieves the current working directory and displays it as output.\n",
    "\n",
    "os.chdir(\"../\"): Changing the current working directory to the parent directory.\n",
    "\n",
    "%pwd: Retrieving the current working directory again to verify the change.\n",
    "\n",
    "from dataclasses import dataclass: Importing the dataclass decorator from the dataclasses module.\n",
    "\n",
    "from pathlib import Path: Importing the Path class from the pathlib module.\n",
    "\n",
    "@dataclass(frozen=True): Decorating the DataValidationConfig class with dataclass and setting frozen=True to make it immutable.\n",
    "\n",
    "class DataValidationConfig: Defining the DataValidationConfig class with attributes root_dir, STATUS_FILE, and ALL_REQUIRED_FILES.\n",
    "\n",
    "from textSummarizer.constants import *: Importing all constants from the textSummarizer.constants module.\n",
    "\n",
    "from textSummarizer.utils.common import read_yaml, create_directories: Importing the read_yaml and create_directories functions from the textSummarizer.utils.common module.\n",
    "\n",
    "class ConfigurationManager: Defining the ConfigurationManager class responsible for managing the project's configuration.\n",
    "\n",
    "The __init__ method within ConfigurationManager initializes the class instance with config_filepath and params_filepath parameters and reads YAML files using the read_yaml function. It also creates necessary directories using the create_directories function.\n",
    "\n",
    "get_data_validation_config method within ConfigurationManager retrieves the data validation configuration from the YAML file. It creates necessary directories and returns an instance of DataValidationConfig with the configuration values.\n",
    "\n",
    "import os: Importing the os module.\n",
    "\n",
    "from textSummarizer.logging import logger: Importing the logger object from the textSummarizer.logging module.\n",
    "\n",
    "class DataValiadtion: Defining the DataValiadtion class responsible for validating the required files' existence.\n",
    "\n",
    "The __init__ method within DataValiadtion initializes the class instance with a DataValidationConfig object.\n",
    "\n",
    "The validate_all_files_exist method within DataValiadtion performs the validation of required files' existence. It uses os.listdir to get a list of all files in the specified directory. It checks if each file is in the ALL_REQUIRED_FILES list of the configuration. If any file is missing, it updates the validation status to False and writes the status to the STATUS_FILE. Otherwise, it updates the status to True.\n",
    "\n",
    "The try block starts, where the configuration manager is created, the data validation configuration is retrieved, an instance of DataValiadtion is created, and the validate_all_files_exist method is called.\n",
    "\n",
    "If any exception occurs during the execution, it is caught in the except block, and the exception is raised again.\n",
    "\n",
    "Overall, the code snippet sets up the configuration, validates the existence of required files, and writes the validation status to a file.\n",
    "\n",
    "\n",
    "\n",
    "\n"
   ]
  }
 ],
 "metadata": {
  "kernelspec": {
   "display_name": "textS",
   "language": "python",
   "name": "python3"
  },
  "language_info": {
   "codemirror_mode": {
    "name": "ipython",
    "version": 3
   },
   "file_extension": ".py",
   "mimetype": "text/x-python",
   "name": "python",
   "nbconvert_exporter": "python",
   "pygments_lexer": "ipython3",
   "version": "3.8.16"
  },
  "orig_nbformat": 4,
  "vscode": {
   "interpreter": {
    "hash": "22fe6abd7fa6c55aa584987fd47a2d98eb23e8b764dd6e6419fc0b943942d875"
   }
  }
 },
 "nbformat": 4,
 "nbformat_minor": 2
}
